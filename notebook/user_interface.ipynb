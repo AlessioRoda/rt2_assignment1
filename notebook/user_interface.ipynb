{
 "cells": [
  {
   "cell_type": "code",
   "execution_count": 19,
   "source": [
    "%matplotlib widget\n",
    "import rospy\n",
    "import time\n",
    "from rt2_assignment1.srv import Command\n",
    "\n",
    "import numpy as np\n",
    "import matplotlib.pyplot as plt\n",
    "import jupyros as jr\n",
    "from nav_msgs.msg import Odometry\n",
    "from matplotlib import animation, rc\n",
    "from geometry_msgs.msg import Twist\n",
    "import ipywidgets as widgets\n",
    "\n",
    "auto_mode=False\n",
    "\n",
    "rospy.init_node('user_interface')\n",
    "ui_client = rospy.ServiceProxy('/user_interface', Command)\n",
    "rate = rospy.Rate(20)\n",
    "\n",
    "pub = rospy.Publisher('cmd_vel', Twist, queue_size=10)\n",
    "\n",
    "msg = Twist()\n",
    "\n"
   ],
   "outputs": [],
   "metadata": {
    "ExecuteTime": {
     "end_time": "2021-07-27T20:44:56.395919Z",
     "start_time": "2021-07-27T20:44:45.621557Z"
    }
   }
  },
  {
   "cell_type": "code",
   "execution_count": 20,
   "source": [
    "\n",
    "\n",
    "button1 = widgets.Button(description=\"Start\",layout=widgets.Layout(widht='auto',grid_area='b1'),\n",
    "                style=widgets.ButtonStyle(button_color='lightblue'))\n",
    "                \n",
    "button2 = widgets.Button(description='Stop',layout=widgets.Layout(width='auto', grid_area='b2'),\n",
    "               style=widgets.ButtonStyle(button_color='salmon'))\n",
    "\n",
    "\n",
    "def onStartCLicked(b): \n",
    "     global auto_mode\n",
    "     ui_client(\"start\")   \n",
    "     auto_mode=True   \n",
    "     print(\"\\nStart moving\")\n",
    "\n",
    "def onStopCLicked(b): \n",
    "     global auto_mode\n",
    "     ui_client(\"stop\")  \n",
    "     auto_mode=False    \n",
    "     print(\"\\nStop the robot\")\n",
    "\n",
    "widgets.GridBox(children=[button1, button2],\n",
    "layout=widgets.Layout(\n",
    "width='40%',\n",
    "grid_template_rows='auto',\n",
    "grid_template_columns='33%',\n",
    "grid_template_areas='''\n",
    "\". b1 . b2 .\"\n",
    "\n",
    "''')\n",
    ")\n",
    "\n",
    "\n"
   ],
   "outputs": [
    {
     "output_type": "display_data",
     "data": {
      "text/plain": [
       "GridBox(children=(Button(description='Start', layout=Layout(grid_area='b1'), style=ButtonStyle(button_color='l…"
      ],
      "application/vnd.jupyter.widget-view+json": {
       "version_major": 2,
       "version_minor": 0,
       "model_id": "33a5bff0d199429bbc717919e8eb0902"
      }
     },
     "metadata": {}
    }
   ],
   "metadata": {}
  },
  {
   "cell_type": "code",
   "execution_count": 21,
   "source": [
    "button1.on_click(onStartCLicked)\n",
    "button2.on_click(onStopCLicked)\n"
   ],
   "outputs": [],
   "metadata": {}
  },
  {
   "cell_type": "code",
   "execution_count": 22,
   "source": [
    "\n",
    "linear_slider = widgets.FloatSlider(description='Linear velocity', min=-2.0, max=2.0)\n",
    "display(linear_slider)\n",
    "\n",
    "slider_angle = widgets.FloatSlider(description='Angular velocity', min=-2.0, max=2.0)\n",
    "display(slider_angle)\n",
    "\n",
    "\n",
    "def on_value_change(change):\n",
    "    global msg\n",
    "    msg.linear.x = change['new']\n",
    "    pub.publish(msg)\n",
    "    \n",
    "def on_valueang_change(change):\n",
    "    global msg\n",
    "    msg.angular.z = change['new']\n",
    "    pub.publish(msg)\n",
    "\n",
    "linear_slider.observe(on_value_change, names='value')\n",
    "slider_angle.observe(on_valueang_change, names='value')"
   ],
   "outputs": [
    {
     "output_type": "display_data",
     "data": {
      "text/plain": [
       "FloatSlider(value=0.0, description='Linear velocity', max=2.0, min=-2.0)"
      ],
      "application/vnd.jupyter.widget-view+json": {
       "version_major": 2,
       "version_minor": 0,
       "model_id": "e17a31fd6c2f48f8af3868c4d99b4a50"
      }
     },
     "metadata": {}
    },
    {
     "output_type": "display_data",
     "data": {
      "text/plain": [
       "FloatSlider(value=0.0, description='Angular velocity', max=2.0, min=-2.0)"
      ],
      "application/vnd.jupyter.widget-view+json": {
       "version_major": 2,
       "version_minor": 0,
       "model_id": "2e4a4987282b4c88a1e9869dc023a8c1"
      }
     },
     "metadata": {}
    }
   ],
   "metadata": {}
  },
  {
   "cell_type": "code",
   "execution_count": 23,
   "source": [
    "forward = widgets.Button(description=\"Foreward\",layout=widgets.Layout(widht='auto',grid_area='b1'),\n",
    "                style=widgets.ButtonStyle(button_color='gray'))\n",
    "                \n",
    "backward = widgets.Button(description='Backward',layout=widgets.Layout(width='auto', grid_area='b2'),\n",
    "               style=widgets.ButtonStyle(button_color='gray'))\n",
    "turn_left = widgets.Button(description='Turn Left',layout=widgets.Layout(width='auto', grid_area='b3'),\n",
    "               style=widgets.ButtonStyle(button_color='gray'))\n",
    "turn_right = widgets.Button(description='Turn Right',layout=widgets.Layout(width='auto', grid_area='b4'),\n",
    "               style=widgets.ButtonStyle(button_color='gray'))\n",
    "stop = widgets.Button(description='Stop',layout=widgets.Layout(width='auto', grid_area='b5'),\n",
    "               style=widgets.ButtonStyle(button_color='gray'))\n",
    "\n",
    "def clk_foreward(b):\n",
    "    global auto_mode\n",
    "\n",
    "    if auto_mode==True:\n",
    "        ui_client(\"stop\") \n",
    "        time.sleep(0.2)\n",
    "        auto_mode=False\n",
    "    msg.linear.x =0.5\n",
    "    msg.angular.z=0\n",
    "    pub.publish(msg)\n",
    "\n",
    "def clk_backward(b):\n",
    "    global auto_mode\n",
    "\n",
    "    if auto_mode==True:\n",
    "        ui_client(\"stop\") \n",
    "        time.sleep(0.2)\n",
    "        auto_mode=False\n",
    "    msg.linear.x =-0.5\n",
    "    msg.angular.z=0\n",
    "    pub.publish(msg)\n",
    "\n",
    "def clk_turn_left(b):\n",
    "    global auto_mode\n",
    "\n",
    "    if auto_mode==True:\n",
    "        ui_client(\"stop\") \n",
    "        time.sleep(0.2)\n",
    "        auto_mode=False\n",
    "    msg.angular.z =-0.5\n",
    "    msg.linear.x =0\n",
    "    pub.publish(msg)\n",
    "\n",
    "def clk_turn_right(b):\n",
    "    global auto_mode\n",
    "\n",
    "    if auto_mode==True:\n",
    "        ui_client(\"stop\") \n",
    "        time.sleep(0.2)\n",
    "        auto_mode=False\n",
    "    ui_client(\"stop\") \n",
    "    msg.angular.z =0.5\n",
    "    msg.linear.x =0\n",
    "    pub.publish(msg)\n",
    "\n",
    "def clk_stop(b):\n",
    "    global auto_mode\n",
    "    \n",
    "    if auto_mode==True:\n",
    "        ui_client(\"stop\") \n",
    "        time.sleep(0.2)\n",
    "        auto_mode=False\n",
    "    msg.linear.x =0\n",
    "    msg.angular.z=0\n",
    "    pub.publish(msg)\n",
    "\n",
    "widgets.GridBox(children=[forward, backward, turn_left, turn_right, stop],\n",
    "layout=widgets.Layout(\n",
    "grid_template_areas='''\n",
    "\". b1 .b2 .b3 .b4 .b5 .\"\n",
    "\n",
    "''')\n",
    ")"
   ],
   "outputs": [
    {
     "output_type": "display_data",
     "data": {
      "text/plain": [
       "GridBox(children=(Button(description='Foreward', layout=Layout(grid_area='b1'), style=ButtonStyle(button_color…"
      ],
      "application/vnd.jupyter.widget-view+json": {
       "version_major": 2,
       "version_minor": 0,
       "model_id": "8177b5e4de8a415e9901a0884823c015"
      }
     },
     "metadata": {}
    }
   ],
   "metadata": {}
  },
  {
   "cell_type": "code",
   "execution_count": 24,
   "source": [
    "forward.on_click(clk_foreward)\n",
    "backward.on_click(clk_backward)\n",
    "turn_left.on_click(clk_turn_left)\n",
    "turn_right.on_click(clk_turn_right)\n",
    "stop.on_click(clk_stop)"
   ],
   "outputs": [],
   "metadata": {}
  },
  {
   "cell_type": "code",
   "execution_count": null,
   "source": [],
   "outputs": [],
   "metadata": {}
  }
 ],
 "metadata": {
  "hide_input": false,
  "interpreter": {
   "hash": "31f2aee4e71d21fbe5cf8b01ff0e069b9275f58929596ceb00d14d90e3e16cd6"
  },
  "kernelspec": {
   "name": "python3",
   "display_name": "Python 3.8.10 64-bit"
  },
  "language_info": {
   "codemirror_mode": {
    "name": "ipython",
    "version": 3
   },
   "file_extension": ".py",
   "mimetype": "text/x-python",
   "name": "python",
   "nbconvert_exporter": "python",
   "pygments_lexer": "ipython3",
   "version": "3.8.10"
  },
  "toc": {
   "base_numbering": 1,
   "nav_menu": {},
   "number_sections": true,
   "sideBar": true,
   "skip_h1_title": false,
   "title_cell": "Table of Contents",
   "title_sidebar": "Contents",
   "toc_cell": false,
   "toc_position": {},
   "toc_section_display": true,
   "toc_window_display": false
  },
  "varInspector": {
   "cols": {
    "lenName": 16,
    "lenType": 16,
    "lenVar": 40
   },
   "kernels_config": {
    "python": {
     "delete_cmd_postfix": "",
     "delete_cmd_prefix": "del ",
     "library": "var_list.py",
     "varRefreshCmd": "print(var_dic_list())"
    },
    "r": {
     "delete_cmd_postfix": ") ",
     "delete_cmd_prefix": "rm(",
     "library": "var_list.r",
     "varRefreshCmd": "cat(var_dic_list()) "
    }
   },
   "types_to_exclude": [
    "module",
    "function",
    "builtin_function_or_method",
    "instance",
    "_Feature"
   ],
   "window_display": false
  }
 },
 "nbformat": 4,
 "nbformat_minor": 5
}