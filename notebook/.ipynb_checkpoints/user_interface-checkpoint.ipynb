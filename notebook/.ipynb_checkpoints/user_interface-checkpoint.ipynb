{
 "cells": [
  {
   "cell_type": "code",
   "execution_count": 1,
   "id": "1e4a8cfa",
   "metadata": {
    "ExecuteTime": {
     "end_time": "2021-07-27T20:44:56.395919Z",
     "start_time": "2021-07-27T20:44:45.621557Z"
    }
   },
   "outputs": [],
   "source": [
    "%matplotlib widget\n",
    "import rospy\n",
    "import time\n",
    "from rt2_assignment1.srv import Command\n",
    "\n",
    "import numpy as np\n",
    "import matplotlib.pyplot as plt\n",
    "import jupyros as jr\n",
    "from nav_msgs.msg import Odometry\n",
    "from matplotlib import animation, rc\n",
    "from geometry_msgs.msg import Twist\n",
    "import ipywidgets as widgets\n",
    "\n",
    "rospy.init_node('user_interface')\n",
    "ui_client = rospy.ServiceProxy('/user_interface', Command)\n",
    "rate = rospy.Rate(20)\n",
    "\n"
   ]
  },
  {
   "cell_type": "code",
   "execution_count": 2,
   "id": "e20651c2",
   "metadata": {},
   "outputs": [
    {
     "data": {
      "application/vnd.jupyter.widget-view+json": {
       "model_id": "78782a34b8344af39a3f91345e685d04",
       "version_major": 2,
       "version_minor": 0
      },
      "text/plain": [
       "Button(description='Start', layout=Layout(grid_area='b1', width='auto'), style=ButtonStyle(button_color='light…"
      ]
     },
     "metadata": {},
     "output_type": "display_data"
    }
   ],
   "source": [
    "from ipywidgets import Button, Layout, ButtonStyle, GridBox\n",
    "import ipywidgets as widgets\n",
    "\n",
    "def onButtonStartClicked():\n",
    "    ui_client(\"start\")\n",
    "    print(\"Robot has started to move!\")\n",
    "\n",
    "b1 = widgets.Button(description='Start',\n",
    "layout=Layout(width='auto', grid_area='b1'),\n",
    "style=ButtonStyle(button_color='lightblue'))\n",
    "\n",
    "\n",
    "b1.on_click(onButtonStartClicked)\n",
    "display(b1)\n"
   ]
  },
  {
   "cell_type": "code",
   "execution_count": 3,
   "id": "c2488509",
   "metadata": {},
   "outputs": [
    {
     "data": {
      "application/vnd.jupyter.widget-view+json": {
       "model_id": "98e0cb3a010d4dc18989a55112b0f2b2",
       "version_major": 2,
       "version_minor": 0
      },
      "text/plain": [
       "GridBox(children=(Button(description='Stop', layout=Layout(grid_area='b2', width='auto'), style=ButtonStyle(bu…"
      ]
     },
     "metadata": {},
     "output_type": "display_data"
    }
   ],
   "source": [
    "\n",
    "\n",
    "b2 = Button(description='Stop',\n",
    "layout=Layout(width='auto', grid_area='b2'),\n",
    "style=ButtonStyle(button_color='moccasin'))\n",
    "\n",
    "\n",
    "GridBox(children=[b2],\n",
    "layout=Layout(\n",
    "width='40%',\n",
    "grid_template_rows='auto',\n",
    "grid_template_columns='33%',\n",
    "grid_template_areas='''\n",
    "\". b2 .\"\n",
    "''')\n",
    ")\n",
    "\n"
   ]
  },
  {
   "cell_type": "code",
   "execution_count": null,
   "id": "aa44e784",
   "metadata": {},
   "outputs": [],
   "source": []
  },
  {
   "cell_type": "code",
   "execution_count": null,
   "id": "5b4de3a6",
   "metadata": {},
   "outputs": [],
   "source": []
  },
  {
   "cell_type": "code",
   "execution_count": null,
   "id": "03286ac1",
   "metadata": {},
   "outputs": [],
   "source": []
  },
  {
   "cell_type": "code",
   "execution_count": null,
   "id": "1b598e74",
   "metadata": {},
   "outputs": [],
   "source": []
  }
 ],
 "metadata": {
  "hide_input": false,
  "interpreter": {
   "hash": "31f2aee4e71d21fbe5cf8b01ff0e069b9275f58929596ceb00d14d90e3e16cd6"
  },
  "kernelspec": {
   "display_name": "Python 3",
   "language": "python",
   "name": "python3"
  },
  "language_info": {
   "codemirror_mode": {
    "name": "ipython",
    "version": 3
   },
   "file_extension": ".py",
   "mimetype": "text/x-python",
   "name": "python",
   "nbconvert_exporter": "python",
   "pygments_lexer": "ipython3",
   "version": "3.8.10"
  },
  "toc": {
   "base_numbering": 1,
   "nav_menu": {},
   "number_sections": true,
   "sideBar": true,
   "skip_h1_title": false,
   "title_cell": "Table of Contents",
   "title_sidebar": "Contents",
   "toc_cell": false,
   "toc_position": {},
   "toc_section_display": true,
   "toc_window_display": false
  },
  "varInspector": {
   "cols": {
    "lenName": 16,
    "lenType": 16,
    "lenVar": 40
   },
   "kernels_config": {
    "python": {
     "delete_cmd_postfix": "",
     "delete_cmd_prefix": "del ",
     "library": "var_list.py",
     "varRefreshCmd": "print(var_dic_list())"
    },
    "r": {
     "delete_cmd_postfix": ") ",
     "delete_cmd_prefix": "rm(",
     "library": "var_list.r",
     "varRefreshCmd": "cat(var_dic_list()) "
    }
   },
   "types_to_exclude": [
    "module",
    "function",
    "builtin_function_or_method",
    "instance",
    "_Feature"
   ],
   "window_display": false
  }
 },
 "nbformat": 4,
 "nbformat_minor": 5
}
