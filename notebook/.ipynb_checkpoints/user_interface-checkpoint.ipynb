{
 "cells": [
  {
   "cell_type": "markdown",
   "id": "20212521-4d4c-4456-9716-55aaf4929636",
   "metadata": {},
   "source": [
    "# User Interface - Alessio Roda S4458313\n",
    "\n"
   ]
  },
  {
   "cell_type": "markdown",
   "id": "712f376d-9125-4dd8-b037-303961ba3fc0",
   "metadata": {},
   "source": [
    "## Overall Description\n",
    "Starting from the code in the repository <a href=\"https://github.com/AlessioRoda/rt2_assignment1.git\" target=\"_blank\">this link</a> it's implemeted a more pratical user interface in order to control the robot in a more suitable way and to plot some related inforations.\n",
    "In patricular, the purpose of this interface is to control the robot in order to\n",
    "\n",
    "* Start and stop te robot to reach random position targets\n",
    "* Set the linear and angualr velocity of the robot (also in case the robot is moving autonomously throught random targets)\n",
    "* Directly control the robot by controlling it with some buttons to drive its movements (forward, turn right, backward, turn left, stop)\n",
    "\n",
    "Evenmore this interface provides some plots, in partcular:\n",
    "\n",
    "* Two line plots for visualizing cmd_vel vs. actual velocity (for linear and angular velocity)\n",
    "* A bar plot displaying the number of reached targets and cancelled targets\n",
    "* A hist plot showing the time required to reach targets\n",
    "* An xy graph showing the robot’s position\n",
    "\n",
    "## How to run the code\n",
    "In order to run the code just need to lauch from terminal the command *roslaunch rt2_assignment1 sim.launch* then run the notebook.\n"
   ]
  },
  {
   "cell_type": "markdown",
   "id": "e4c0cd02-1315-4d65-b680-4627f3173882",
   "metadata": {},
   "source": [
    "Here are initialized some publishers and global variables\n"
   ]
  },
  {
   "cell_type": "code",
   "execution_count": 1,
   "id": "8545672c",
   "metadata": {
    "ExecuteTime": {
     "end_time": "2021-07-27T20:44:56.395919Z",
     "start_time": "2021-07-27T20:44:45.621557Z"
    }
   },
   "outputs": [],
   "source": [
    "%matplotlib widget\n",
    "import rospy\n",
    "import time\n",
    "import actionlib\n",
    "import rt2_assignment1.msg\n",
    "from rt2_assignment1.srv import Command\n",
    "from rt2_assignment1.srv import Velocity\n",
    "\n",
    "import numpy as np\n",
    "import matplotlib.pyplot as plt\n",
    "import jupyros as jr\n",
    "from nav_msgs.msg import Odometry\n",
    "from matplotlib import animation, rc\n",
    "from matplotlib.backends.backend_agg import FigureCanvasAgg as FigureCanvas\n",
    "from matplotlib.figure import Figure\n",
    "from geometry_msgs.msg import Twist, Point\n",
    "import ipywidgets as widgets\n",
    "from rt2_assignment1.msg import PositionActionResult\n",
    "\n",
    "#Define if robot is miving with random position behaviuor or not\n",
    "auto_mode=False\n",
    "\n",
    "reached=0\n",
    "cancelled=0\n",
    "\n",
    "task_time=0\n",
    "update_time=[]\n",
    "\n",
    "linear_slider_vel=1\n",
    "angular_slider_vel=1\n",
    "\n",
    "\n",
    "rospy.init_node('user_interface')\n",
    "ui_client = rospy.ServiceProxy('/user_interface', Command)\n",
    "rate = rospy.Rate(20)\n",
    "\n",
    "pub = rospy.Publisher('cmd_vel', Twist, queue_size=10)\n",
    "\n"
   ]
  },
  {
   "cell_type": "markdown",
   "id": "9bcd499a-129b-408c-b47c-742abba643a8",
   "metadata": {},
   "source": [
    "## Odom and cmd_vel callback\n",
    "\n",
    "Here there are the callbacks to odom and to cmd_vel to get the position of the robot and the curret velocity that has been published.\n",
    "\n"
   ]
  },
  {
   "cell_type": "code",
   "execution_count": 2,
   "id": "53395214-9d3d-4ec3-8519-f8112734e2df",
   "metadata": {},
   "outputs": [],
   "source": [
    "\n",
    "# Cmd_vel values\n",
    "cmd_linear=[]\n",
    "cmd_angular=[]\n",
    "\n",
    "# odometry values\n",
    "odom_linear=[]\n",
    "odom_angular=[]\n",
    "\n",
    "odom_x_pose=[]\n",
    "odom_y_pose=[]\n",
    "\n",
    "time=[]\n",
    "\n",
    "last_lin=0\n",
    "last_ang=0\n",
    "\n",
    "last_x=0\n",
    "last_y=0\n",
    "\n",
    "\n",
    "\n",
    "def twist_callback(vel):\n",
    "    global cmd_angular, cmd_linear, new_value, time_cmd_vel, last_ang, last_lin\n",
    "\n",
    "    last_lin=vel.linear.x\n",
    "    last_ang=vel.angular.z\n",
    "        \n",
    "\n",
    "\n",
    "def odometry_callback(msg):\n",
    "    global odom_linear, odom_angular, time, odom_x_pose, odom_y_pose, cmd_angular, cmd_linear, last_lin, last_ang, last_x, last_y\n",
    "\n",
    "    # Get all data from odometry, position and velocity\n",
    "    odom_linear.append(msg.twist.twist.linear.x)\n",
    "    odom_angular.append(msg.twist.twist.angular.z)\n",
    "    \n",
    "    last_x=msg.pose.pose.position.x\n",
    "    last_y=msg.pose.pose.position.y\n",
    "    \n",
    "    odom_x_pose.append(last_x)\n",
    "    odom_y_pose.append(last_y)\n",
    "    \n",
    "    \n",
    "    #Since I want that the number of values received from the cmd_vel and odom velocity are the same, every time that this callback is executed I need to \n",
    "    #append the last value received from the twist_callback \n",
    "    cmd_linear.append(last_lin)\n",
    "    cmd_angular.append(last_ang)\n",
    "\n",
    "\n",
    "    if(len(time) == 0):\n",
    "        time.append(0.05)\n",
    "    else:\n",
    "        time.append(time[len(time)-1]+0.05)\n",
    "        \n",
    "        \n",
    "velocity_subscriber=rospy.Subscriber('/cmd_vel', Twist, twist_callback)\n",
    "odom_subscriber=rospy.Subscriber('/odom', Odometry, odometry_callback)"
   ]
  },
  {
   "cell_type": "markdown",
   "id": "9bfcce28-b46f-4877-a8c6-9a6c9f55e7d1",
   "metadata": {},
   "source": [
    "## Start and Stop random behaviour buttons \n",
    "\n",
    "These buttons make the robot moving to reach random targets generated by the /positionServer node. When user press the buttons the related command is sent via a Command custom service message to the /stateMachine node, then robot starts moving or stops in the current position.\n",
    "\n",
    "\n"
   ]
  },
  {
   "cell_type": "code",
   "execution_count": 3,
   "id": "2d5c2867",
   "metadata": {},
   "outputs": [
    {
     "data": {
      "application/vnd.jupyter.widget-view+json": {
       "model_id": "c245f18f008e455784c4d35f5c3eb0d4",
       "version_major": 2,
       "version_minor": 0
      },
      "text/plain": [
       "GridBox(children=(Button(description='Start', layout=Layout(grid_area='b1'), style=ButtonStyle(button_color='l…"
      ]
     },
     "metadata": {},
     "output_type": "display_data"
    }
   ],
   "source": [
    "\n",
    "button1 = widgets.Button(description=\"Start\",layout=widgets.Layout(widht='auto',grid_area='b1'),\n",
    "                style=widgets.ButtonStyle(button_color='lightblue'))\n",
    "                \n",
    "button2 = widgets.Button(description='Stop',layout=widgets.Layout(width='auto', grid_area='b2'),\n",
    "               style=widgets.ButtonStyle(button_color='salmon'))\n",
    "\n",
    "\n",
    "def onStartCLicked(b): \n",
    "     global auto_mode, task_time, ui_client\n",
    "     ui_client(\"start\")   \n",
    "     auto_mode=True   \n",
    "     task_time=rospy.Time.now()\n",
    "     print(\"\\nStart moving\")\n",
    "\n",
    "def onStopCLicked(b): \n",
    "     global auto_mode, cancelled, task_time, ui_client\n",
    "     ui_client(\"stop\")\n",
    "     if auto_mode==True:  \n",
    "          auto_mode=False    \n",
    "          cancelled=cancelled+1\n",
    "          #reset time\n",
    "          task_time=0\n",
    "\n",
    "     msg = Twist()\n",
    "     msg.linear.x =0\n",
    "     msg.angular.z=0\n",
    "     pub.publish(msg)\n",
    "          \n",
    "     print(\"\\nStop the robot\")\n",
    "\n",
    "widgets.GridBox(children=[button1, button2],\n",
    "layout=widgets.Layout(\n",
    "width='40%',\n",
    "grid_template_rows='auto',\n",
    "grid_template_columns='33%',\n",
    "grid_template_areas='''\n",
    "\". b1 . b2 .\"\n",
    "\n",
    "''')\n",
    ")\n",
    "\n",
    "\n"
   ]
  },
  {
   "cell_type": "code",
   "execution_count": 4,
   "id": "0df7b648",
   "metadata": {},
   "outputs": [],
   "source": [
    "button1.on_click(onStartCLicked)\n",
    "button2.on_click(onStopCLicked)\n"
   ]
  },
  {
   "cell_type": "markdown",
   "id": "8b0ff86c-0d4b-4c34-8a49-de486ab8f71e",
   "metadata": {},
   "source": [
    "## Velocity sliders\n",
    "\n",
    "With these two sliders user can set the linear and angualar velocity of the robot in a range of values [0.1, 3]. In case the robot is moving to a random target the velocity can be incremented or decremented proportionally to the set value. Since in this case a negative velocity wouldn't let the robot reach the position, sliders do not allow negative velocities. \n",
    "\n",
    "In order to set the velocity during the random position behaviour a Velocity custom service message is sent to the /goToPoint node where the linear and angular velocity values are multiplied to the current values of the velocity generated by the script.\n",
    "\n"
   ]
  },
  {
   "cell_type": "code",
   "execution_count": 5,
   "id": "0569b1ba",
   "metadata": {},
   "outputs": [
    {
     "data": {
      "application/vnd.jupyter.widget-view+json": {
       "model_id": "b49b7935c4f548439de00c10f6775556",
       "version_major": 2,
       "version_minor": 0
      },
      "text/plain": [
       "FloatSlider(value=0.1, description='Linear velocity', max=3.0, min=0.1)"
      ]
     },
     "metadata": {},
     "output_type": "display_data"
    },
    {
     "data": {
      "application/vnd.jupyter.widget-view+json": {
       "model_id": "12ac424e112145af800e7cb17f070dfe",
       "version_major": 2,
       "version_minor": 0
      },
      "text/plain": [
       "FloatSlider(value=0.1, description='Angular velocity', max=3.0, min=0.1)"
      ]
     },
     "metadata": {},
     "output_type": "display_data"
    }
   ],
   "source": [
    "coeff_linear=1\n",
    "coeff_angular=1\n",
    "\n",
    "velocity_publisher = rospy.ServiceProxy('/set_velocity', Velocity)\n",
    "\n",
    "linear_slider = widgets.FloatSlider(description='Linear velocity', min=0.1, max=3.0)\n",
    "display(linear_slider)\n",
    "\n",
    "slider_angle = widgets.FloatSlider(description='Angular velocity', min=0.1, max=3.0)\n",
    "display(slider_angle)\n",
    "\n",
    "\n",
    "def on_value_change(change):\n",
    "    global coeff_linear, auto_mode, coeff_angular, linear_slider_vel\n",
    "    linear_slider_vel=change['new']\n",
    "    \n",
    "    if auto_mode == False:\n",
    "        msg=Twist()\n",
    "        msg.linear.x = linear_slider_vel\n",
    "        pub.publish(msg)\n",
    "    else:\n",
    "        coeff_linear=linear_slider_vel\n",
    "        velocity_publisher(coeff_linear, coeff_angular)\n",
    "    \n",
    "def on_valueang_change(change):\n",
    "    global coeff_angular, auto_mode, coeff_linear, angular_slider_vel\n",
    "    angular_slider_vel=change['new']\n",
    "    \n",
    "    if auto_mode== False:\n",
    "        msg=Twist()\n",
    "        msg.angular.z = angular_slider_vel\n",
    "        pub.publish(msg)\n",
    "    else:\n",
    "        coeff_angular=angular_slider_vel\n",
    "        velocity_publisher(coeff_linear, coeff_angular)\n",
    "\n",
    "\n",
    "linear_slider.observe(on_value_change, names='value')\n",
    "slider_angle.observe(on_valueang_change, names='value')"
   ]
  },
  {
   "cell_type": "markdown",
   "id": "5fdc6dc1-42c5-4c19-91d9-0d26e67f0d2a",
   "metadata": {},
   "source": [
    "## Buttons to directly control the robot \n",
    "\n",
    "Here there are five buttons to directly drive the robot:\n",
    "\n",
    "* Foreward\n",
    "* Backward\n",
    "* Turn Left\n",
    "* Turn Right \n",
    "* Stop\n",
    "\n",
    "When one of these buttons is clicked the random position behaviour is stopped and the previous goal to reach is deleted.\n",
    "Notice that the velocity within wich the robot moves depends on the value set with the sliders.\n",
    "\n",
    "Each time user passes from the random position behaviour to a direct control, the corresponding velocity of the button is poblished 100 times, due to the fact that otherwise it would happen that user would have to click the button two times to correctly execute the command of the button. This could not be the best solution at all, but for a \"simple\" controller like this it could be reasonable.\n"
   ]
  },
  {
   "cell_type": "code",
   "execution_count": 6,
   "id": "f7b33d32",
   "metadata": {},
   "outputs": [
    {
     "data": {
      "application/vnd.jupyter.widget-view+json": {
       "model_id": "68164a4fc80f4227993662d296c59db4",
       "version_major": 2,
       "version_minor": 0
      },
      "text/plain": [
       "GridBox(children=(Button(description='Foreward', layout=Layout(grid_area='b1'), style=ButtonStyle(button_color…"
      ]
     },
     "metadata": {},
     "output_type": "display_data"
    }
   ],
   "source": [
    "forward = widgets.Button(description=\"Foreward\",layout=widgets.Layout(widht='auto%',grid_area='b1'),\n",
    "                style=widgets.ButtonStyle(button_color='silver'))\n",
    "                \n",
    "backward = widgets.Button(description='Backward',layout=widgets.Layout(width='auto%', grid_area='b2'),\n",
    "               style=widgets.ButtonStyle(button_color='silver'))\n",
    "turn_left = widgets.Button(description='Turn Left',layout=widgets.Layout(width='auto%', grid_area='b3'),\n",
    "               style=widgets.ButtonStyle(button_color='silver'))\n",
    "turn_right = widgets.Button(description='Turn Right',layout=widgets.Layout(width='auto%', grid_area='b4'),\n",
    "               style=widgets.ButtonStyle(button_color='silver'))\n",
    "stop = widgets.Button(description='Stop',layout=widgets.Layout(width='95%', grid_area='b5'),\n",
    "               style=widgets.ButtonStyle(button_color='silver'))\n",
    "\n",
    "\n",
    "\n",
    "def clk_foreward(b):\n",
    "    global auto_mode, cancelled, linear_slider_vel, task_time\n",
    "    \n",
    "\n",
    "    if auto_mode==True:\n",
    "        ui_client(\"stop\") \n",
    "        cancelled=cancelled+1\n",
    "        #reset time\n",
    "        task_time=0\n",
    "        auto_mode=False\n",
    "        \n",
    "        for i in range(0, 100):\n",
    "            msg=Twist()\n",
    "            msg.linear.x =0.5*linear_slider_vel\n",
    "            msg.angular.z=0\n",
    "            pub.publish(msg)\n",
    "    \n",
    "    else:\n",
    "        msg=Twist()\n",
    "        msg.linear.x =0.5*linear_slider_vel\n",
    "        msg.angular.z=0\n",
    "        pub.publish(msg)\n",
    "\n",
    "def clk_backward(b):\n",
    "    global auto_mode, cancelled, linear_slider_vel\n",
    "    \n",
    "\n",
    "    if auto_mode==True:\n",
    "        ui_client(\"stop\") \n",
    "        cancelled=cancelled+1\n",
    "        #reset time\n",
    "        task_time=0\n",
    "        auto_mode=False\n",
    "                        \n",
    "        for i in range(0, 100):\n",
    "            msg=Twist()\n",
    "            msg.linear.x =-0.5*linear_slider_vel\n",
    "            msg.angular.z=0\n",
    "            pub.publish(msg)                     \n",
    "        \n",
    "    else:    \n",
    "        msg=Twist()\n",
    "        msg.linear.x =-0.5*linear_slider_vel\n",
    "        msg.angular.z=0\n",
    "        pub.publish(msg)\n",
    "\n",
    "def clk_turn_left(b):\n",
    "    global auto_mode, cancelled, angular_slider_vel\n",
    "    \n",
    "\n",
    "    if auto_mode==True:\n",
    "        ui_client(\"stop\") \n",
    "        cancelled=cancelled+1\n",
    "        #reset time\n",
    "        task_time=0\n",
    "        auto_mode=False\n",
    "        for i in range(0, 100):\n",
    "            msg=Twist()\n",
    "            msg.linear.x =0\n",
    "            msg.angular.z=-0.5*angular_slider_vel\n",
    "            pub.publish(msg)                     \n",
    "        \n",
    "    else:    \n",
    "        msg=Twist()\n",
    "        msg.linear.x =0\n",
    "        msg.angular.z=-0.5*angular_slider_vel\n",
    "        pub.publish(msg)\n",
    "\n",
    "def clk_turn_right(b):\n",
    "    global auto_mode, cancelled, angular_slider_vel\n",
    "\n",
    "\n",
    "    if auto_mode==True:\n",
    "        ui_client(\"stop\") \n",
    "        cancelled=cancelled+1\n",
    "        #reset time\n",
    "        task_time=0\n",
    "        auto_mode=False\n",
    "        last_ang=0\n",
    "        for i in range(0, 100):\n",
    "            msg=Twist()\n",
    "            msg.linear.x =0\n",
    "            msg.angular.z=0.5*angular_slider_vel\n",
    "            pub.publish(msg)                     \n",
    "        \n",
    "    else:    \n",
    "        msg=Twist()\n",
    "        msg.linear.x =0\n",
    "        msg.angular.z=0.5*angular_slider_vel\n",
    "        pub.publish(msg)\n",
    "\n",
    "def clk_stop(b):\n",
    "    global auto_mode, cancelled\n",
    "    \n",
    "    if auto_mode==True:\n",
    "        ui_client(\"stop\") \n",
    "        cancelled=cancelled+1\n",
    "        #reset time\n",
    "        task_time=0\n",
    "        auto_mode=False\n",
    "        \n",
    "    msg=Twist()\n",
    "    msg.linear.x =0\n",
    "    msg.angular.z=0\n",
    "    pub.publish(msg)\n",
    "\n",
    "widgets.GridBox(children=[forward, backward, turn_left, turn_right, stop],\n",
    "layout=widgets.Layout(\n",
    "width='40%',\n",
    "grid_template_rows='auto auto auto',\n",
    "grid_template_areas='''\n",
    "\" .b1. \"\n",
    "\"b3 . b4 \"\n",
    "\" .b2. \"\n",
    "''')\n",
    ")"
   ]
  },
  {
   "cell_type": "code",
   "execution_count": 7,
   "id": "0c8be3d6",
   "metadata": {},
   "outputs": [],
   "source": [
    "forward.on_click(clk_foreward)\n",
    "backward.on_click(clk_backward)\n",
    "turn_left.on_click(clk_turn_left)\n",
    "turn_right.on_click(clk_turn_right)\n",
    "stop.on_click(clk_stop)"
   ]
  },
  {
   "cell_type": "markdown",
   "id": "83a76375-d404-4b33-b61c-6105e8271f88",
   "metadata": {},
   "source": [
    "## Time to reach a target\n",
    "\n",
    "Here there's an histogram plot showing the time spent to reach a certain goal during the random position behaviour.\n",
    "On the x axis there's indicated the time in seconds, while on the y axis it's indicated the number of target for each time instant. \n",
    "\n",
    "\n"
   ]
  },
  {
   "cell_type": "code",
   "execution_count": 8,
   "id": "ca4390ba",
   "metadata": {},
   "outputs": [
    {
     "data": {
      "application/vnd.jupyter.widget-view+json": {
       "model_id": "3f41fc151d57441fb5c8b24222dd8479",
       "version_major": 2,
       "version_minor": 0
      },
      "text/plain": [
       "Canvas(toolbar=Toolbar(toolitems=[('Home', 'Reset original view', 'home', 'home'), ('Back', 'Back to previous …"
      ]
     },
     "metadata": {},
     "output_type": "display_data"
    }
   ],
   "source": [
    "fig_time,ax_time= plt.subplots() \n",
    "\n",
    "bins=30\n",
    "\n",
    "ax_time.set_title(\"Time to reach a goal\")\n",
    "ax_time.set(xlabel=\"Time [s]\", ylabel=\"Goal reached\")\n",
    "ax_time.hist([], bins)\n",
    "\n",
    "\n",
    "def clb_targets(msg):\n",
    "  global reached, auto_mode, task_time, update_time, ax_time, xlim\n",
    "  if auto_mode==True:\n",
    "    reached = reached+1\n",
    "    \n",
    "    difference_time=rospy.Time.now().to_sec()-task_time.to_sec()\n",
    "    update_time.append(difference_time)\n",
    "    task_time=rospy.Time.now()\n",
    "    \n",
    "        \n",
    "    ax_time.hist(update_time, bins, color='b')\n",
    "  \n",
    "\n",
    "jr.subscribe('/go_to_point/result',PositionActionResult, clb_targets)\n",
    "fig_time.show()"
   ]
  },
  {
   "cell_type": "markdown",
   "id": "fa9403c8-fceb-47f3-a22c-0176c79a804d",
   "metadata": {},
   "source": [
    "## Reached targets and cancelled targets\n",
    "\n",
    "A bar plot showing the number of reached and cancelled targets during the random position behaviour.\n",
    "Once the robot is stoped or switches from the random position behaviour to the direct user control the target is deleted and the number of cancelled targets is incremented.\n",
    "\n"
   ]
  },
  {
   "cell_type": "code",
   "execution_count": 9,
   "id": "1eb24661",
   "metadata": {},
   "outputs": [
    {
     "data": {
      "application/vnd.jupyter.widget-view+json": {
       "model_id": "3a2c8f45ff1f48b99b7d8ec992ac9efd",
       "version_major": 2,
       "version_minor": 0
      },
      "text/plain": [
       "Canvas(toolbar=Toolbar(toolitems=[('Home', 'Reset original view', 'home', 'home'), ('Back', 'Back to previous …"
      ]
     },
     "metadata": {},
     "output_type": "display_data"
    }
   ],
   "source": [
    "bar_fig1=plt.figure()\n",
    "bar_ax1=bar_fig1.add_subplot(111)\n",
    "targets=[]\n",
    "langs = ['Reached targets', 'Cacelled targets']\n",
    "\n",
    "def animate_bar(i):\n",
    "    global reached, cancelled, targets\n",
    "    targets=[reached, cancelled]\n",
    "    bar_ax1.bar(langs, targets, color='b')\n",
    "    bar_ax1.set_title(\"Reached targets vs Cancelled targets\")\n",
    "    # To be sure that the y limit is always updated conforming to the number of reached and cancelled targets\n",
    "    if reached>=cancelled:\n",
    "        bar_ax1.set_ylim(0, reached+10)\n",
    "    else:\n",
    "        bar_ax1.set_ylim(0, cancelled+10)\n",
    "   # plt.bar(langs, targets)\n",
    "    \n",
    "\n",
    "ani_bar = animation.FuncAnimation(bar_fig1, animate_bar, interval=100)\n"
   ]
  },
  {
   "cell_type": "markdown",
   "id": "a587a983-f104-4365-814a-917bbadb1423",
   "metadata": {},
   "source": [
    "## Velocities (cmd_vel vs odom)\n",
    "\n",
    "Two line plots showing the linear and angular velocity from cmd_vel message respect to the actual linear and angular velocity from odom message.\n",
    "\n",
    "\n"
   ]
  },
  {
   "cell_type": "code",
   "execution_count": 10,
   "id": "4b11a342",
   "metadata": {},
   "outputs": [
    {
     "data": {
      "application/vnd.jupyter.widget-view+json": {
       "model_id": "fdd150991d8944dfb68b11f294f220b8",
       "version_major": 2,
       "version_minor": 0
      },
      "text/plain": [
       "Canvas(toolbar=Toolbar(toolitems=[('Home', 'Reset original view', 'home', 'home'), ('Back', 'Back to previous …"
      ]
     },
     "metadata": {},
     "output_type": "display_data"
    },
    {
     "data": {
      "application/vnd.jupyter.widget-view+json": {
       "model_id": "0e8c0089adfc4c7fadd7d3ae6865d1b5",
       "version_major": 2,
       "version_minor": 0
      },
      "text/plain": [
       "Canvas(toolbar=Toolbar(toolitems=[('Home', 'Reset original view', 'home', 'home'), ('Back', 'Back to previous …"
      ]
     },
     "metadata": {},
     "output_type": "display_data"
    }
   ],
   "source": [
    "x_lim=20\n",
    "x_min=0\n",
    "\n",
    "fig_linear_velocity,ax_linear_velocity=plt.subplots()\n",
    "ax_linear_velocity.set_xlim(x_min, x_lim)\n",
    "ax_linear_velocity.set_ylim(-1, 6)\n",
    "\n",
    "fig_angular_velocity,ax_angular_velocity=plt.subplots()\n",
    "ax_angular_velocity.set_xlim(x_min, x_lim)\n",
    "ax_angular_velocity.set_ylim(-1, 6)\n",
    "\n",
    "linear_actual, =ax_linear_velocity.plot([],[],lw=2, color='red',label='odom linear velocity')\n",
    "angular_actual, =ax_angular_velocity.plot([],[],lw=2, color='orange',label='odom angular velocity')\n",
    "linear_cmd, =ax_linear_velocity.plot([],[], lw=2, color='blue',label='cmd_vel linear velocity')\n",
    "angular_cmd, =ax_angular_velocity.plot([],[], lw=2, color='purple',label='cmd_vel angular velocity')\n",
    "\n",
    "\n",
    "\n",
    "def init_graph():\n",
    "    global linear_actual, angular_actual, linear_cmd, angular_cmd, ax_linear_velocity, ax_angular_velocity\n",
    "    \n",
    "    ax_linear_velocity.legend()\n",
    "    ax_linear_velocity.set_title(\"Odom vs cmd_vel linear velocity\")\n",
    "    ax_linear_velocity.set(xlabel='Time', ylabel='Linear velocity')\n",
    "    ax_linear_velocity.set_xlabel('time')\n",
    "\n",
    "    ax_angular_velocity.legend()\n",
    "    ax_angular_velocity.set_title(\"Odom vs cmd_vel angular velocity\")\n",
    "    ax_angular_velocity.set(xlabel='Time', ylabel='Angular velocity')\n",
    "    ax_angular_velocity.set_xlabel('time')\n",
    "    \n",
    "    ax_linear_velocity.set_ylim(-5,5)\n",
    "    ax_angular_velocity.set_ylim(-5,5)\n",
    "     \n",
    "    \n",
    "    linear_actual.set_data([],[])\n",
    "    angular_actual.set_data([],[])\n",
    "    linear_cmd.set_data([],[])\n",
    "    angular_cmd.set_data([],[])\n",
    "\n",
    "    return (linear_actual, angular_actual, linear_cmd, angular_cmd,)\n",
    "\n",
    "\n",
    "\n",
    "def update_plot(frame):\n",
    "    global time, odom_angular, odom_linear, cmd_linear, cmd_angular, linear_cmd, angular_cmd, linear_actual, angular_actual, x_lim, x_min\n",
    "    \n",
    "\n",
    "    # Update dimension of the plot (it's the same for either the two graphs)\n",
    "    if len(time)!=0:\n",
    "        \n",
    "        if time[len(time)-1] > x_lim:\n",
    "            x_lim=x_lim+1\n",
    "            x_min=x_lim-20\n",
    "\n",
    "            ax_linear_velocity.set_xlim(x_min,x_lim)\n",
    "            ax_angular_velocity.set_xlim(x_min,x_lim)\n",
    "        \n",
    "        \n",
    "    linear_actual.set_data(time, odom_linear)\n",
    "    angular_actual.set_data(time, odom_angular)\n",
    "\n",
    "    linear_cmd.set_data(time, cmd_linear)\n",
    "    angular_cmd.set_data(time, cmd_angular)\n",
    "    \n",
    "    \n",
    "\n",
    "    return (linear_actual, angular_actual, linear_cmd, angular_cmd,)\n",
    "\n",
    "\n",
    "anim_linear_velocity= animation.FuncAnimation(fig_linear_velocity, update_plot, init_func=init_graph, frames=100, interval=20,\n",
    "blit=True)\n",
    "\n",
    "anim_angular_velocity= animation.FuncAnimation(fig_angular_velocity, update_plot, init_func=init_graph, frames=100, interval=20,\n",
    "blit=True)\n",
    "\n",
    "\n"
   ]
  },
  {
   "cell_type": "markdown",
   "id": "87929f14-3b60-4391-bd48-7e8f73c6eca6",
   "metadata": {},
   "source": [
    "## Robot position\n",
    "\n",
    "A line plot showing the robot position in terms of x and y coordinates\n",
    "\n",
    "\n"
   ]
  },
  {
   "cell_type": "code",
   "execution_count": 11,
   "id": "c68f8f0f",
   "metadata": {},
   "outputs": [
    {
     "data": {
      "application/vnd.jupyter.widget-view+json": {
       "model_id": "eee32b76e21c46e6a597ac977d0d31e2",
       "version_major": 2,
       "version_minor": 0
      },
      "text/plain": [
       "Canvas(toolbar=Toolbar(toolitems=[('Home', 'Reset original view', 'home', 'home'), ('Back', 'Back to previous …"
      ]
     },
     "metadata": {},
     "output_type": "display_data"
    }
   ],
   "source": [
    "max_x_value=10\n",
    "min_x_value=max_x_value-20\n",
    "max_y_value=10\n",
    "min_y_value=max_y_value-20\n",
    "\n",
    "fig_odom, ax_odom = plt.subplots()\n",
    "line_odom, = ax_odom.plot([], [], 'ro')\n",
    "\n",
    "\n",
    "def init_odom():\n",
    "    global ax_odom, max_x_value, min_x_value, max_y_value, min_y_value\n",
    "    line_odom.set_data([], [])\n",
    "    \n",
    "    ax_odom.set_xlim(min_x_value, max_x_value)\n",
    "    ax_odom.set_ylim(min_y_value, max_y_value)\n",
    "    ax_odom.set_title(\"Robot position (x, y)\")\n",
    "    ax_odom.set(xlabel='X axis', ylabel='Y axis')\n",
    "    return (line_odom,)\n",
    "\n",
    "\n",
    "def animate_odom(i):\n",
    "    global x_prec, y_prec, odom_x_pose, odom_y_pose, max_x_value, max_y_value, min_x_value, min_y_value, last_x, last_y\n",
    "    \n",
    "    #Checks if the position is going outside the range of the plot, in case define again the values for the x_lim and y_lim\n",
    "    if last_x > max_x_value:\n",
    "        max_x_value=max_x_value+5\n",
    "        min_x_value=max_x_value-20\n",
    "\n",
    "        ax_odom.set_xlim(min_x_value, max_x_value)\n",
    "        \n",
    "    if last_y > max_y_value:\n",
    "        max_y_value=max_y_value+5\n",
    "        min_y_value=max_y_value-20\n",
    "\n",
    "        ax_odom.set_ylim(min_y_value, max_y_value)\n",
    "        \n",
    "    if last_x < min_x_value:\n",
    "        max_x_value=max_x_value-5\n",
    "        min_x_value=max_x_value-20\n",
    "\n",
    "        ax_odom.set_xlim(min_x_value, max_x_value)\n",
    "        \n",
    "    if last_y < min_y_value:\n",
    "        max_y_value=max_y_value-5\n",
    "        min_y_value=max_y_value-20\n",
    "\n",
    "        ax_odom.set_ylim(min_y_value, max_y_value)\n",
    "\n",
    "    line_odom.set_data(odom_x_pose, odom_y_pose)\n",
    "\n",
    "    return (line_odom, ax_odom,)\n",
    "    \n"
   ]
  },
  {
   "cell_type": "code",
   "execution_count": 12,
   "id": "544e9f47",
   "metadata": {},
   "outputs": [],
   "source": [
    "anim_odom = animation.FuncAnimation(fig_odom,\n",
    "animate_odom, init_func=init_odom,\n",
    "frames=100, interval=20,\n",
    "blit=True)\n"
   ]
  }
 ],
 "metadata": {
  "hide_input": false,
  "interpreter": {
   "hash": "31f2aee4e71d21fbe5cf8b01ff0e069b9275f58929596ceb00d14d90e3e16cd6"
  },
  "kernelspec": {
   "display_name": "Python 3",
   "language": "python",
   "name": "python3"
  },
  "language_info": {
   "codemirror_mode": {
    "name": "ipython",
    "version": 3
   },
   "file_extension": ".py",
   "mimetype": "text/x-python",
   "name": "python",
   "nbconvert_exporter": "python",
   "pygments_lexer": "ipython3",
   "version": "3.8.10"
  },
  "toc": {
   "base_numbering": 1,
   "nav_menu": {},
   "number_sections": true,
   "sideBar": true,
   "skip_h1_title": false,
   "title_cell": "Table of Contents",
   "title_sidebar": "Contents",
   "toc_cell": false,
   "toc_position": {},
   "toc_section_display": true,
   "toc_window_display": false
  },
  "varInspector": {
   "cols": {
    "lenName": 16,
    "lenType": 16,
    "lenVar": 40
   },
   "kernels_config": {
    "python": {
     "delete_cmd_postfix": "",
     "delete_cmd_prefix": "del ",
     "library": "var_list.py",
     "varRefreshCmd": "print(var_dic_list())"
    },
    "r": {
     "delete_cmd_postfix": ") ",
     "delete_cmd_prefix": "rm(",
     "library": "var_list.r",
     "varRefreshCmd": "cat(var_dic_list()) "
    }
   },
   "types_to_exclude": [
    "module",
    "function",
    "builtin_function_or_method",
    "instance",
    "_Feature"
   ],
   "window_display": false
  }
 },
 "nbformat": 4,
 "nbformat_minor": 5
}
