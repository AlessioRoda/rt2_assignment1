{
 "cells": [
  {
   "cell_type": "code",
   "execution_count": 1,
   "id": "62761123",
   "metadata": {
    "ExecuteTime": {
     "end_time": "2021-07-27T20:44:56.395919Z",
     "start_time": "2021-07-27T20:44:45.621557Z"
    }
   },
   "outputs": [],
   "source": [
    "%matplotlib widget\n",
    "import rospy\n",
    "import time\n",
    "from rt2_assignment1.srv import Command\n",
    "\n",
    "import numpy as np\n",
    "import matplotlib.pyplot as plt\n",
    "import jupyros as jr\n",
    "from nav_msgs.msg import Odometry\n",
    "from matplotlib import animation, rc\n",
    "from geometry_msgs.msg import Twist\n",
    "import ipywidgets as widgets\n",
    "\n",
    "rospy.init_node('user_interface')\n",
    "ui_client = rospy.ServiceProxy('/user_interface', Command)\n",
    "time.sleep(10)\n",
    "rate = rospy.Rate(20)\n",
    "\n"
   ]
  },
  {
   "cell_type": "code",
   "execution_count": 3,
   "id": "427bd20a",
   "metadata": {},
   "outputs": [],
   "source": [
    "from ipywidgets import Button, Layout, ButtonStyle, GridBox, VBox, HBox\n",
    "import ipywidgets as widgets\n",
    "\n",
    "b1 = Button(description='Start',\n",
    "layout=Layout(width='auto', align=\"center\", grid_area='b1'),\n",
    "style=ButtonStyle(button_color='lightblue'))\n"
   ]
  },
  {
   "cell_type": "code",
   "execution_count": null,
   "id": "b7bd2a0b-94c6-4eb1-9454-10269d57879f",
   "metadata": {},
   "outputs": [],
   "source": []
  },
  {
   "cell_type": "code",
   "execution_count": null,
   "id": "543e9ada-df45-44f2-93e4-81cb68d70417",
   "metadata": {},
   "outputs": [],
   "source": []
  }
 ],
 "metadata": {
  "hide_input": false,
  "kernelspec": {
   "display_name": "Python 3",
   "language": "python",
   "name": "python3"
  },
  "language_info": {
   "codemirror_mode": {
    "name": "ipython",
    "version": 3
   },
   "file_extension": ".py",
   "mimetype": "text/x-python",
   "name": "python",
   "nbconvert_exporter": "python",
   "pygments_lexer": "ipython3",
   "version": "3.8.10"
  },
  "toc": {
   "base_numbering": 1,
   "nav_menu": {},
   "number_sections": true,
   "sideBar": true,
   "skip_h1_title": false,
   "title_cell": "Table of Contents",
   "title_sidebar": "Contents",
   "toc_cell": false,
   "toc_position": {},
   "toc_section_display": true,
   "toc_window_display": false
  },
  "varInspector": {
   "cols": {
    "lenName": 16,
    "lenType": 16,
    "lenVar": 40
   },
   "kernels_config": {
    "python": {
     "delete_cmd_postfix": "",
     "delete_cmd_prefix": "del ",
     "library": "var_list.py",
     "varRefreshCmd": "print(var_dic_list())"
    },
    "r": {
     "delete_cmd_postfix": ") ",
     "delete_cmd_prefix": "rm(",
     "library": "var_list.r",
     "varRefreshCmd": "cat(var_dic_list()) "
    }
   },
   "types_to_exclude": [
    "module",
    "function",
    "builtin_function_or_method",
    "instance",
    "_Feature"
   ],
   "window_display": false
  }
 },
 "nbformat": 4,
 "nbformat_minor": 5
}
